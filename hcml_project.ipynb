{
 "cells": [
  {
   "attachments": {},
   "cell_type": "markdown",
   "metadata": {},
   "source": [
    "# Human-centered Machine Learning Project:\n",
    "## <b> Explanation of locally-important features for Deep fake detection  "
   ]
  },
  {
   "cell_type": "code",
   "execution_count": 1,
   "metadata": {},
   "outputs": [],
   "source": [
    "# LIBRARIES\n",
    "\n",
    "# Library for data manipulation\n",
    "import pandas as pd\n",
    "import numpy as np\n",
    "\n",
    "# Library for image manipulation\n",
    "from PIL import Image\n",
    "import cv2\n",
    "\n",
    "# Library for data preprocessing\n",
    "from sklearn.preprocessing import LabelEncoder\n",
    "from sklearn.model_selection import train_test_split   \n",
    "from sklearn.preprocessing import StandardScaler\n",
    "\n",
    "# Library for Ground Truth Generation\n",
    "from sklearn.linear_model import LogisticRegression\n",
    "from sklearn.svm import SVC\n",
    "from sklearn.ensemble import RandomForestClassifier\n",
    "\n",
    "# Library for data visualization\n",
    "import matplotlib.pyplot as plt\n",
    "import seaborn as sns\n",
    "\n",
    "# Library for general purpose\n",
    "import os\n",
    "import shutil\n",
    "import zipfile\n",
    "import random\n",
    "import time\n",
    "\n",
    "# Library for deep learning\n",
    "import tensorflow as tf\n",
    "from keras.models import Sequential\n",
    "from keras.layers import Dense, Conv2D, MaxPooling2D, Flatten, Dropout, BatchNormalization\n",
    "from keras.preprocessing.image import ImageDataGenerator\n",
    "from keras.callbacks import ReduceLROnPlateau, EarlyStopping, ModelCheckpoint\n",
    "from keras.optimizers import Adam, RMSprop\n",
    "from keras.utils import to_categorical\n",
    "\n",
    "# Library for evaluation\n",
    "from sklearn.metrics import confusion_matrix, classification_report"
   ]
  },
  {
   "cell_type": "code",
   "execution_count": 6,
   "metadata": {},
   "outputs": [],
   "source": [
    "# EXTRACTION OF ZIP FILES\n",
    "\n",
    "# Local paths\n",
    "real_fake_img_pth = \"C:\\\\Users\\\\FDB\\\\Downloads\\\\archive.zip\"\n",
    "\n",
    "# Extracting the zip files\n",
    "# IntraFace\n",
    "with zipfile.ZipFile(real_fake_img_pth, 'r') as zip_ref:\n",
    "    zip_ref.extractall('C:\\\\Users\\\\FDB\\\\Downloads\\\\dataset')"
   ]
  },
  {
   "cell_type": "code",
   "execution_count": null,
   "metadata": {},
   "outputs": [],
   "source": [
    "# Create a dataset of images \n",
    "\n",
    "# Local paths\n",
    "intraface_path = \"C:\\\\Users\\\\FDB\\\\Downloads\\\\IntraFace\\\\dev\" # USE YOUR LOCAL PATH \n",
    "\n",
    "# Create a dataset of images\n",
    "def create_dataset(path):\n",
    "\n"
   ]
  },
  {
   "cell_type": "code",
   "execution_count": null,
   "metadata": {},
   "outputs": [],
   "source": [
    "# "
   ]
  }
 ],
 "metadata": {
  "kernelspec": {
   "display_name": "Python 3",
   "language": "python",
   "name": "python3"
  },
  "language_info": {
   "codemirror_mode": {
    "name": "ipython",
    "version": 3
   },
   "file_extension": ".py",
   "mimetype": "text/x-python",
   "name": "python",
   "nbconvert_exporter": "python",
   "pygments_lexer": "ipython3",
   "version": "3.9.7"
  },
  "orig_nbformat": 4
 },
 "nbformat": 4,
 "nbformat_minor": 2
}
